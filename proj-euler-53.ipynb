{
  "nbformat": 4,
  "nbformat_minor": 0,
  "metadata": {
    "colab": {
      "provenance": [],
      "authorship_tag": "ABX9TyN99LFCxwS2H6DKtrszBwvb",
      "include_colab_link": true
    },
    "kernelspec": {
      "name": "python3",
      "display_name": "Python 3"
    },
    "language_info": {
      "name": "python"
    }
  },
  "cells": [
    {
      "cell_type": "markdown",
      "metadata": {
        "id": "view-in-github",
        "colab_type": "text"
      },
      "source": [
        "<a href=\"https://colab.research.google.com/github/Lorxus/Project-Euler/blob/main/proj-euler-53.ipynb\" target=\"_parent\"><img src=\"https://colab.research.google.com/assets/colab-badge.svg\" alt=\"Open In Colab\"/></a>"
      ]
    },
    {
      "cell_type": "code",
      "execution_count": 15,
      "metadata": {
        "colab": {
          "base_uri": "https://localhost:8080/"
        },
        "id": "lrpLLjLCbAmW",
        "outputId": "f0c78340-105b-4eb6-c55b-b159f51d8b2c"
      },
      "outputs": [
        {
          "output_type": "stream",
          "name": "stdout",
          "text": [
            "4075\n"
          ]
        }
      ],
      "source": [
        "# calculates the number of values C(n,k) for 1 <= n,k <= 100 which exceed 1000000\n",
        "# the values need not be unique\n",
        "\n",
        "import math\n",
        "import random as rand\n",
        "\n",
        "magicinput = 100\n",
        "magicbig = 1000000\n",
        "chunguscount = 0\n",
        "\n",
        "for i in range(23, magicinput + 1):  # C(23, 10) is the first to exceed 1000000\n",
        "    for j in range(magicinput + 1):  # C(n, k) = C(n, n-k)\n",
        "        combo = math.comb(i, j)\n",
        "        if combo > magicbig:\n",
        "            chunguscount += 1\n",
        "        #     if i < 30 or rand.random() < 0.001:\n",
        "        #         print('chungus found:', combo)\n",
        "        # if i < 30 or rand.random() < 0.001:\n",
        "        #     print('Just checked:', i, j, combo > magicbig)\n",
        "\n",
        "print(chunguscount)"
      ]
    }
  ]
}