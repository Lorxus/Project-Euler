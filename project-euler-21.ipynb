{
  "nbformat": 4,
  "nbformat_minor": 0,
  "metadata": {
    "colab": {
      "provenance": [],
      "authorship_tag": "ABX9TyPGLAx6RBQ9v6Pa7UX4MTbH",
      "include_colab_link": true
    },
    "kernelspec": {
      "name": "python3",
      "display_name": "Python 3"
    },
    "language_info": {
      "name": "python"
    }
  },
  "cells": [
    {
      "cell_type": "markdown",
      "metadata": {
        "id": "view-in-github",
        "colab_type": "text"
      },
      "source": [
        "<a href=\"https://colab.research.google.com/github/Lorxus/Project-Euler/blob/main/project-euler-21.ipynb\" target=\"_parent\"><img src=\"https://colab.research.google.com/assets/colab-badge.svg\" alt=\"Open In Colab\"/></a>"
      ]
    },
    {
      "cell_type": "code",
      "execution_count": 7,
      "metadata": {
        "colab": {
          "base_uri": "https://localhost:8080/"
        },
        "id": "KDbneeahk_xC",
        "outputId": "0cdbbe39-7b96-4879-8b5e-68572714cb53"
      },
      "outputs": [
        {
          "output_type": "stream",
          "name": "stdout",
          "text": [
            "10000\n",
            "[220, 284, 1184, 1210, 2620, 2924, 5020, 5564, 6232, 6368]\n",
            "31626\n"
          ]
        }
      ],
      "source": [
        "# calculates the sum of all (pairs of) amicable numbers under a magic number (in the case of Project Euler, 10000).\n",
        "\n",
        "magic = 10000\n",
        "\n",
        "def getdivisorsum(n):\n",
        "    divisorlist = [1]\n",
        "    for i in range(2, int(n/2)+1):\n",
        "        if n % i == 0:\n",
        "            divisorlist.append(i)\n",
        "\n",
        "    return sum(divisorlist)\n",
        "\n",
        "friendlist = [0] * magic\n",
        "for i in range(magic):\n",
        "    friendlist[i] = getdivisorsum(i+1)\n",
        "\n",
        "print(len(friendlist))\n",
        "amicablelist = []\n",
        "for i in range(12, magic):  # skip some early deficient numbers and 6\n",
        "    myfriend = friendlist[i-1]\n",
        "    if i in amicablelist or i == getdivisorsum(i) or myfriend > magic - 1:  # already found it, perfect number, out of bounds\n",
        "        continue\n",
        "\n",
        "    if i == friendlist[myfriend - 1]:\n",
        "        amicablelist.append(i)\n",
        "        amicablelist.append(myfriend)  # get them both now\n",
        "\n",
        "print(amicablelist)\n",
        "print(sum(amicablelist))\n"
      ]
    }
  ]
}