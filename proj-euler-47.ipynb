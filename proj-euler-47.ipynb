{
  "nbformat": 4,
  "nbformat_minor": 0,
  "metadata": {
    "colab": {
      "provenance": [],
      "authorship_tag": "ABX9TyOpaMnMWfFmLl+XN3xHrbOS",
      "include_colab_link": true
    },
    "kernelspec": {
      "name": "python3",
      "display_name": "Python 3"
    },
    "language_info": {
      "name": "python"
    }
  },
  "cells": [
    {
      "cell_type": "markdown",
      "metadata": {
        "id": "view-in-github",
        "colab_type": "text"
      },
      "source": [
        "<a href=\"https://colab.research.google.com/github/Lorxus/Project-Euler/blob/main/proj-euler-47.ipynb\" target=\"_parent\"><img src=\"https://colab.research.google.com/assets/colab-badge.svg\" alt=\"Open In Colab\"/></a>"
      ]
    },
    {
      "cell_type": "code",
      "execution_count": 23,
      "metadata": {
        "colab": {
          "base_uri": "https://localhost:8080/"
        },
        "id": "v-LgjyhANJcp",
        "outputId": "6659f034-8350-4c13-86d8-55e3e44f0c1f"
      },
      "outputs": [
        {
          "output_type": "stream",
          "name": "stdout",
          "text": [
            "a success at 134043 !\n",
            "[134043, 134044, 134045, 134046]\n"
          ]
        }
      ],
      "source": [
        "# Numbers have zero or more distinct prime factors.\n",
        "# The first run of two numbers each with two distinct factors: 14 = 2 * 7, 15 = 3 * 5\n",
        "# The first run of three numbers each with three distinct factors: 644 = 2^2 * 7 * 23, 645 = 3 * 5 * 43, 646 = 2 * 17 * 19\n",
        "\n",
        "import sympy as sp\n",
        "import random as rand\n",
        "import math\n",
        "\n",
        "primes = []\n",
        "\n",
        "param = 25000\n",
        "for i in range(2, param):\n",
        "    if sp.isprime(i):\n",
        "        primes.append(i)\n",
        "\n",
        "def numberofdistinctprimes(n):\n",
        "    if type(n) != int:  # needs to be prime-factorable\n",
        "        return -1\n",
        "\n",
        "    primecount = 0\n",
        "\n",
        "    for p in primes:\n",
        "        if p > n:  # too big\n",
        "            break\n",
        "        if n % p == 0:\n",
        "            primecount += 1  # found one\n",
        "            while n % p == 0:  # remove all copies\n",
        "                n /= p\n",
        "\n",
        "    return primecount\n",
        "\n",
        "# for i in range(210, 230):\n",
        "#     print(i, 'has', numberofdistinctprimes(i), 'factors')\n",
        "\n",
        "lotsafactors = []\n",
        "param2 = 150000\n",
        "for i in range(210, param2):  # 210 = 2 * 3 * 5 * 7\n",
        "    temp = numberofdistinctprimes(i)\n",
        "    if temp == 4:\n",
        "        lotsafactors.append(i)\n",
        "    # if temp > 3:\n",
        "    #     print(i, 'has', temp, 'distinct factors')\n",
        "\n",
        "runlength = 0\n",
        "maxrunlength = 0\n",
        "allruns = []\n",
        "temprun = []\n",
        "\n",
        "for f in lotsafactors:\n",
        "    if f + 1 not in lotsafactors:\n",
        "        runlength = 1\n",
        "        if len(temprun) > 1:\n",
        "            allruns.append(temprun)\n",
        "        temprun = []\n",
        "        continue\n",
        "    runlength += 1\n",
        "    temprun.append(f)\n",
        "    if runlength > maxrunlength:\n",
        "        maxrunlength = runlength\n",
        "    if runlength == 4:\n",
        "        temprun.append(f+1)\n",
        "        print('a success at', f-2, '!')\n",
        "        print(temprun)"
      ]
    }
  ]
}