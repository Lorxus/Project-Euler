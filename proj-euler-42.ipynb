{
  "nbformat": 4,
  "nbformat_minor": 0,
  "metadata": {
    "colab": {
      "provenance": [],
      "authorship_tag": "ABX9TyMCBMT0CiNzpCsNjYrkHoJc",
      "include_colab_link": true
    },
    "kernelspec": {
      "name": "python3",
      "display_name": "Python 3"
    },
    "language_info": {
      "name": "python"
    }
  },
  "cells": [
    {
      "cell_type": "markdown",
      "metadata": {
        "id": "view-in-github",
        "colab_type": "text"
      },
      "source": [
        "<a href=\"https://colab.research.google.com/github/Lorxus/Project-Euler/blob/main/proj-euler-42.ipynb\" target=\"_parent\"><img src=\"https://colab.research.google.com/assets/colab-badge.svg\" alt=\"Open In Colab\"/></a>"
      ]
    },
    {
      "cell_type": "code",
      "execution_count": 2,
      "metadata": {
        "id": "hsnIyq6LIPhR",
        "colab": {
          "base_uri": "https://localhost:8080/"
        },
        "outputId": "8be3dfd1-d818-42dd-97ff-d5ae0912c9ef"
      },
      "outputs": [
        {
          "output_type": "stream",
          "name": "stdout",
          "text": [
            "162\n"
          ]
        }
      ],
      "source": [
        "# we call a word a \"triangle word\" if its alphanumeric sum is a triangular number\n",
        "# that is: a number of the form n(n+1)/2 for n a positive integer\n",
        "# uses 0042_words.txt\n",
        "# this program calculates the number of triangle words in 0042_words.txt\n",
        "\n",
        "from google.colab import files\n",
        "\n",
        "def wordtototal(s):  # get the alphanumeric score of a name\n",
        "    name = list(s)\n",
        "    #print(name)\n",
        "    total = 0\n",
        "    if s is None:\n",
        "        return 0\n",
        "\n",
        "    for char in name:\n",
        "        charscore = 0\n",
        "\n",
        "        if char.isupper():\n",
        "            charscore = ord(char) - 64  # 64 is the char before A\n",
        "        else:\n",
        "            charscore = ord(char) - 96  # 96 is the char before a\n",
        "\n",
        "        total += charscore\n",
        "\n",
        "    return total\n",
        "\n",
        "file = open('0042_words.txt')\n",
        "wordfile = list(file)\n",
        "file.close()\n",
        "\n",
        "wordlist = wordfile[0].split(',')\n",
        "wordlist = sorted(wordlist)\n",
        "\n",
        "for i in range(len(wordlist)):\n",
        "    word = wordlist[i]\n",
        "    wordlist[i] = word[1:-1]  # strip first and last chars\n",
        "#print(len(wordlist))\n",
        "#print(type(namelist[0]))\n",
        "\n",
        "trianglelist = []\n",
        "for i in range(1, 1001):\n",
        "    temp = int((i * (i+1))/2)\n",
        "    trianglelist.append(temp)\n",
        "\n",
        "scorelist = []\n",
        "trianglecount = 0\n",
        "\n",
        "for word in wordlist:\n",
        "    temp = wordtototal(word)\n",
        "    scorelist.append(temp)\n",
        "\n",
        "    if temp in trianglelist:\n",
        "        trianglecount += 1\n",
        "\n",
        "print(trianglecount)\n",
        "\n",
        "\n"
      ]
    }
  ]
}