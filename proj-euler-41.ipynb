{
  "nbformat": 4,
  "nbformat_minor": 0,
  "metadata": {
    "colab": {
      "provenance": [],
      "authorship_tag": "ABX9TyOjLo6DqeHv8zfRVj4X8sEp",
      "include_colab_link": true
    },
    "kernelspec": {
      "name": "python3",
      "display_name": "Python 3"
    },
    "language_info": {
      "name": "python"
    }
  },
  "cells": [
    {
      "cell_type": "markdown",
      "metadata": {
        "id": "view-in-github",
        "colab_type": "text"
      },
      "source": [
        "<a href=\"https://colab.research.google.com/github/Lorxus/Project-Euler/blob/main/proj-euler-41.ipynb\" target=\"_parent\"><img src=\"https://colab.research.google.com/assets/colab-badge.svg\" alt=\"Open In Colab\"/></a>"
      ]
    },
    {
      "cell_type": "code",
      "execution_count": 22,
      "metadata": {
        "colab": {
          "base_uri": "https://localhost:8080/"
        },
        "id": "fRJXofS11eLr",
        "outputId": "c19e1ba8-429d-4811-e051-3b47961bbfb1"
      },
      "outputs": [
        {
          "output_type": "stream",
          "name": "stdout",
          "text": [
            "7 7652413\n"
          ]
        }
      ],
      "source": [
        "# A pandigital prime is one that contains all digits from 1 to n exactly once, for some n.\n",
        "# This program calculates the largest pandigital prime.\n",
        "\n",
        "import sympy as sp\n",
        "import random as rand\n",
        "import itertools as it\n",
        "\n",
        "def digitstoint(L):\n",
        "    if type(L) != list:\n",
        "        return -1\n",
        "    if not all(type(d) == int for d in L):\n",
        "        return -1\n",
        "\n",
        "    length = len(L)\n",
        "    total = 0\n",
        "    for i in range(length):\n",
        "        total += L[i] * 10 ** (length - 1 - i)\n",
        "\n",
        "    #print(total)\n",
        "    return total\n",
        "\n",
        "biggestN = 4  # we know 2143 exists\n",
        "biggestprime = -1\n",
        "existsaprime = False\n",
        "\n",
        "# we can immediately eliminate 1, 2, 3, and 4 as too small\n",
        "# for divisibility reasons, we can also eliminate 5, 6, 8, and 9\n",
        "# so all we need to check is the permutations of [1, 2, 3, 4, 5, 6, 7]\n",
        "\n",
        "digits = [1, 2, 3, 4, 5, 6, 7]\n",
        "numberlist = it.permutations(digits)\n",
        "for number in numberlist:\n",
        "    mynumber = digitstoint(list(number))\n",
        "    if sp.isprime(mynumber):\n",
        "        existsaprime = True\n",
        "        biggestN = 7\n",
        "        biggestprime = mynumber\n",
        "        #print('there is a pandigital prime with', 7, 'digits:', mynumber)\n",
        "\n",
        "\n",
        "print(biggestN, biggestprime)\n",
        "\n"
      ]
    }
  ]
}