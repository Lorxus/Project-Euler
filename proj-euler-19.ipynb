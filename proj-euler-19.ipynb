{
  "nbformat": 4,
  "nbformat_minor": 0,
  "metadata": {
    "colab": {
      "provenance": [],
      "authorship_tag": "ABX9TyPwyE0x6sSzjVTxUReTAOa/",
      "include_colab_link": true
    },
    "kernelspec": {
      "name": "python3",
      "display_name": "Python 3"
    },
    "language_info": {
      "name": "python"
    }
  },
  "cells": [
    {
      "cell_type": "markdown",
      "metadata": {
        "id": "view-in-github",
        "colab_type": "text"
      },
      "source": [
        "<a href=\"https://colab.research.google.com/github/Lorxus/Project-Euler/blob/main/proj_euler_19.ipynb\" target=\"_parent\"><img src=\"https://colab.research.google.com/assets/colab-badge.svg\" alt=\"Open In Colab\"/></a>"
      ]
    },
    {
      "cell_type": "code",
      "execution_count": 1,
      "metadata": {
        "colab": {
          "base_uri": "https://localhost:8080/"
        },
        "id": "SaYzbfweMIXB",
        "outputId": "16141115-b47b-4698-aabf-9010847baca6"
      },
      "outputs": [
        {
          "output_type": "stream",
          "name": "stdout",
          "text": [
            "There were 171 Sundays in the 20th century.\n"
          ]
        }
      ],
      "source": [
        "# How many first of the months in the 20th century, 1901-1-1 to 2000-12-31, were Sundays?\n",
        "# I'm too lazy to code Conway's algorithm just for this tbf.\n",
        "# Great guy but an awful lecturer. I miss him a little.\n",
        "\n",
        "firstjanohone = 2  # 1901-1-1 was a Tuesday\n",
        "firstofthemonth = 2\n",
        "offsetsmodseven = [0, 3, 0, 3, 2, 3, 2, 3, 3, 2, 3, 2]\n",
        "totalsundaycount = 0\n",
        "\n",
        "for year in range(1901, 2001):\n",
        "    for month in range(12):\n",
        "        firstofthemonth += offsetsmodseven[month]\n",
        "        firstofthemonth %= 7\n",
        "        if month == 2 and year % 4 == 0:  # march, not februrary. no need for anything fancier. it's only a century and the only edge/corner case is in our favor.\n",
        "            firstofthemonth += 1\n",
        "            firstofthemonth %= 7\n",
        "\n",
        "        if firstofthemonth == 0:\n",
        "            totalsundaycount += 1\n",
        "\n",
        "    firstofthemonth += 3  # December\n",
        "    firstofthemonth %= 7\n",
        "\n",
        "print('There were', totalsundaycount, 'Sundays in the 20th century.' )\n",
        ""
      ]
    }
  ]
}
