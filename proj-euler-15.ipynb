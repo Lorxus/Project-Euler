{
  "nbformat": 4,
  "nbformat_minor": 0,
  "metadata": {
    "colab": {
      "provenance": [],
      "authorship_tag": "ABX9TyMHP+mz3IG6qYThMBURn98Q",
      "include_colab_link": true
    },
    "kernelspec": {
      "name": "python3",
      "display_name": "Python 3"
    },
    "language_info": {
      "name": "python"
    }
  },
  "cells": [
    {
      "cell_type": "markdown",
      "metadata": {
        "id": "view-in-github",
        "colab_type": "text"
      },
      "source": [
        "<a href=\"https://colab.research.google.com/github/Lorxus/Project-Euler/blob/main/project-euler-15.ipynb\" target=\"_parent\"><img src=\"https://colab.research.google.com/assets/colab-badge.svg\" alt=\"Open In Colab\"/></a>"
      ]
    },
    {
      "cell_type": "code",
      "execution_count": 1,
      "metadata": {
        "colab": {
          "base_uri": "https://localhost:8080/"
        },
        "id": "lNfdnNeZfZ-R",
        "outputId": "fa3859d9-71ae-4709-b592-514e7028d5fe"
      },
      "outputs": [
        {
          "output_type": "stream",
          "name": "stdout",
          "text": [
            "137846528820.0\n"
          ]
        }
      ],
      "source": [
        "# How many right/up lattice paths are there on the doublepositive quarterplane between the origin and (n, n)?\n",
        "# Should be C(2n, n).\n",
        "from math import factorial\n",
        "\n",
        "n = 20\n",
        "paths = factorial(40)/(factorial(20) * factorial(20))\n",
        "print(paths)\n"
      ]
    }
  ]
}
