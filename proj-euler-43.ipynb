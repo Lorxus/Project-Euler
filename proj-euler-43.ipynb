{
  "nbformat": 4,
  "nbformat_minor": 0,
  "metadata": {
    "colab": {
      "provenance": [],
      "authorship_tag": "ABX9TyNtwPz2vRVFfpnwRyQhLGvj",
      "include_colab_link": true
    },
    "kernelspec": {
      "name": "python3",
      "display_name": "Python 3"
    },
    "language_info": {
      "name": "python"
    }
  },
  "cells": [
    {
      "cell_type": "markdown",
      "metadata": {
        "id": "view-in-github",
        "colab_type": "text"
      },
      "source": [
        "<a href=\"https://colab.research.google.com/github/Lorxus/Project-Euler/blob/main/proj-euler-43.ipynb\" target=\"_parent\"><img src=\"https://colab.research.google.com/assets/colab-badge.svg\" alt=\"Open In Colab\"/></a>"
      ]
    },
    {
      "cell_type": "code",
      "execution_count": 2,
      "metadata": {
        "colab": {
          "base_uri": "https://localhost:8080/"
        },
        "id": "D4gkMp3gul_s",
        "outputId": "49ed6527-2cdb-4c00-8dc1-f15436601e39"
      },
      "outputs": [
        {
          "output_type": "stream",
          "name": "stdout",
          "text": [
            "1406357289 has the substring divisibility property!\n",
            "1430952867 has the substring divisibility property!\n",
            "1460357289 has the substring divisibility property!\n",
            "4106357289 has the substring divisibility property!\n",
            "4130952867 has the substring divisibility property!\n",
            "4160357289 has the substring divisibility property!\n",
            "16695334890\n"
          ]
        }
      ],
      "source": [
        "# This program computes the sum of all 10-digit 0-9 pandigital numbers with the following substring divisibility property:\n",
        "# 2 | d_2d_3d_4; 3 | d_3d_4d_5; 5 | d_4d_5d_6; 7 | d_5d_6d_7; 11 | d_6d_7d_8; 13 | d7_d8d_9; 17 | d_8d_9d_10\n",
        "\n",
        "import itertools as it\n",
        "\n",
        "def striptodigitsten(n):\n",
        "    digits = []\n",
        "    numberstub = n\n",
        "\n",
        "    while numberstub > 0:\n",
        "        d = numberstub % 10\n",
        "        digits.insert(0, d)\n",
        "        numberstub -= d\n",
        "        numberstub /= 10\n",
        "        numberstub = int(numberstub)\n",
        "\n",
        "    return digits\n",
        "\n",
        "def digitstoint(L):\n",
        "    if type(L) != list:\n",
        "        return -1\n",
        "    if not all(type(d) == int for d in L):\n",
        "        return -1\n",
        "\n",
        "    length = len(L)\n",
        "    total = 0\n",
        "    for i in range(length):\n",
        "        total += L[i] * 10 ** (length - 1 - i)\n",
        "\n",
        "    #print(total)\n",
        "    return total\n",
        "\n",
        "def hassubstringdivisibility(n):  # needs to be fed a list\n",
        "    digits = n\n",
        "    sub1 = digitstoint(n[1:4])\n",
        "    sub2 = digitstoint(n[2:5])\n",
        "    sub3 = digitstoint(n[3:6])\n",
        "    sub4 = digitstoint(n[4:7])\n",
        "    sub5 = digitstoint(n[5:8])\n",
        "    sub6 = digitstoint(n[6:9])\n",
        "    sub7 = digitstoint(n[7:])\n",
        "    truthvalue = (sub1 % 2 == 0) and (sub2 % 3 == 0) and (sub3 % 5 == 0) and (sub4 % 7 == 0) and (sub5 % 11 == 0) and (sub6 % 13 == 0) and (sub7 % 17 == 0)\n",
        "    return truthvalue\n",
        "\n",
        "digits = [0] * 10\n",
        "for i in range(10):\n",
        "    digits[i] = i\n",
        "\n",
        "numberlist = it.permutations(digits)  # spits out tuples!\n",
        "total = 0\n",
        "\n",
        "for numbertuple in numberlist:\n",
        "    mynumlist = list(numbertuple)\n",
        "    mynumber = digitstoint(mynumlist)\n",
        "    if hassubstringdivisibility(mynumlist):\n",
        "        print(mynumber, 'has the substring divisibility property!')\n",
        "        total += mynumber\n",
        "\n",
        "print(total)\n",
        "\n"
      ]
    }
  ]
}