{
  "nbformat": 4,
  "nbformat_minor": 0,
  "metadata": {
    "colab": {
      "provenance": [],
      "authorship_tag": "ABX9TyPPqSJr4pPdAd8DXP92cxNs",
      "include_colab_link": true
    },
    "kernelspec": {
      "name": "python3",
      "display_name": "Python 3"
    },
    "language_info": {
      "name": "python"
    }
  },
  "cells": [
    {
      "cell_type": "markdown",
      "metadata": {
        "id": "view-in-github",
        "colab_type": "text"
      },
      "source": [
        "<a href=\"https://colab.research.google.com/github/Lorxus/Project-Euler/blob/main/proj-euler-45.ipynb\" target=\"_parent\"><img src=\"https://colab.research.google.com/assets/colab-badge.svg\" alt=\"Open In Colab\"/></a>"
      ]
    },
    {
      "cell_type": "code",
      "execution_count": 1,
      "metadata": {
        "colab": {
          "base_uri": "https://localhost:8080/"
        },
        "id": "gLCn2MX6Ib_9",
        "outputId": "64ccfdd3-915b-4b08-940b-0591ffddf76f"
      },
      "outputs": [
        {
          "output_type": "stream",
          "name": "stdout",
          "text": [
            "2\n",
            "[40755, 1533776805]\n"
          ]
        }
      ],
      "source": [
        "# 40755 is the first number that's triangular, pentagonal, and hexagonal\n",
        "# this program finds the next ones\n",
        "\n",
        "# def triangle(n):  every hexagonal number is triangular\n",
        "#     temp = n * (n+1)/2\n",
        "#     temp = int(temp)\n",
        "#     return temp\n",
        "\n",
        "def pentagon(n):\n",
        "    temp = n * (3*n-1)/2\n",
        "    temp = int(temp)\n",
        "    return temp\n",
        "\n",
        "def hexagon(n):\n",
        "    return n * (2*n-1)\n",
        "\n",
        "def intersect(lst1, lst2):\n",
        "    lst3 = [value for value in lst1 if value in lst2]\n",
        "    return lst3\n",
        "\n",
        "# trianglelist = []\n",
        "pentagonlist = []\n",
        "hexagonlist = []\n",
        "\n",
        "for i in range(2, 50001):  # gets only the first two values - 40755 and 1533776805\n",
        "    pentagonlist.append(pentagon(i))\n",
        "    hexagonlist.append(hexagon(i))\n",
        "\n",
        "#print(intersect(trianglelist, hexagonlist))\n",
        "\n",
        "triplelist = intersect(pentagonlist, hexagonlist)  # 3m^2 - m = 4n^2 - 2n?\n",
        "\n",
        "print(len(triplelist))\n",
        "if len(triplelist) > 0 and len(triplelist) < 20:\n",
        "    print(triplelist)\n",
        "else:\n",
        "    print(triplelist[0:20])\n"
      ]
    }
  ]
}