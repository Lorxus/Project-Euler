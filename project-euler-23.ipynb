{
  "nbformat": 4,
  "nbformat_minor": 0,
  "metadata": {
    "colab": {
      "provenance": [],
      "authorship_tag": "ABX9TyPJCDfkXkqXHprk3Ymn+eUM",
      "include_colab_link": true
    },
    "kernelspec": {
      "name": "python3",
      "display_name": "Python 3"
    },
    "language_info": {
      "name": "python"
    }
  },
  "cells": [
    {
      "cell_type": "markdown",
      "metadata": {
        "id": "view-in-github",
        "colab_type": "text"
      },
      "source": [
        "<a href=\"https://colab.research.google.com/github/Lorxus/Project-Euler/blob/main/project-euler-23.ipynb\" target=\"_parent\"><img src=\"https://colab.research.google.com/assets/colab-badge.svg\" alt=\"Open In Colab\"/></a>"
      ]
    },
    {
      "cell_type": "code",
      "execution_count": 5,
      "metadata": {
        "colab": {
          "base_uri": "https://localhost:8080/"
        },
        "id": "xznKUjPjpdjP",
        "outputId": "21731f3c-606a-4f5f-b29d-ccdad7db1f9c"
      },
      "outputs": [
        {
          "output_type": "stream",
          "name": "stdout",
          "text": [
            "395465626 391285755\n",
            "4179871\n"
          ]
        }
      ],
      "source": [
        "# calculates the sum of all numbers that cannot be written as the sum of exactly two abundant numbers\n",
        "\n",
        "def getdivisorsum(n):\n",
        "    divisorlist = [1]\n",
        "    for i in range(2, int(n/2)+1):\n",
        "        if n % i == 0:\n",
        "            divisorlist.append(i)\n",
        "\n",
        "    total = sum(divisorlist)\n",
        "    return total\n",
        "\n",
        "def isAbundant(n):\n",
        "    return getdivisorsum(n) > n\n",
        "\n",
        "magic = 28123  # per PE, every number larger than this can provably be written as the sum of two abundant numbers but that this purely analytic bound is not sharp but cannot be improved\n",
        "abundantlist = [12]\n",
        "\n",
        "for i in range(17, magic):  # you really do need to check pretty much right up to the end\n",
        "    if isAbundant(i):\n",
        "        abundantlist.append(i)\n",
        "\n",
        "# print(len(abundantlist))\n",
        "\n",
        "sumset = set()\n",
        "sumlist = []\n",
        "\n",
        "for number in abundantlist:\n",
        "    for number2 in abundantlist:\n",
        "        total = number + number2\n",
        "        sumset.add(total)\n",
        "\n",
        "# print(len(sumset))\n",
        "\n",
        "for number in sumset:\n",
        "    if number <= magic:\n",
        "        sumlist.append(number)\n",
        "\n",
        "# print(max(sumlist))\n",
        "print(int((magic * (magic + 1))/2), sum(sumlist))\n",
        "\n",
        "nonabundantablesumsum = int((magic * (magic + 1))/2) - sum(sumlist)  # easier than adding everything not on the list\n",
        "\n",
        "print(nonabundantablesumsum)"
      ]
    }
  ]
}