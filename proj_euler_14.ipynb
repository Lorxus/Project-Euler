{
  "nbformat": 4,
  "nbformat_minor": 0,
  "metadata": {
    "colab": {
      "provenance": [],
      "authorship_tag": "ABX9TyPzL8/y5JFxX5D2KOolnRfZ",
      "include_colab_link": true
    },
    "kernelspec": {
      "name": "python3",
      "display_name": "Python 3"
    },
    "language_info": {
      "name": "python"
    }
  },
  "cells": [
    {
      "cell_type": "markdown",
      "metadata": {
        "id": "view-in-github",
        "colab_type": "text"
      },
      "source": [
        "<a href=\"https://colab.research.google.com/github/Lorxus/Project-Euler/blob/main/proj_euler_14.ipynb\" target=\"_parent\"><img src=\"https://colab.research.google.com/assets/colab-badge.svg\" alt=\"Open In Colab\"/></a>"
      ]
    },
    {
      "cell_type": "code",
      "execution_count": 7,
      "metadata": {
        "colab": {
          "base_uri": "https://localhost:8080/"
        },
        "id": "_Yr_RhahFlAm",
        "outputId": "4d2df29a-5f2d-4124-ca11-aa54f3dc3530"
      },
      "outputs": [
        {
          "output_type": "stream",
          "name": "stdout",
          "text": [
            "new best: 2 with chain length 1\n",
            "new best: 3 with chain length 7\n",
            "new best: 6 with chain length 8\n",
            "new best: 7 with chain length 16\n",
            "new best: 9 with chain length 19\n",
            "new best: 18 with chain length 20\n",
            "new best: 25 with chain length 23\n",
            "new best: 27 with chain length 111\n",
            "new best: 54 with chain length 112\n",
            "new best: 73 with chain length 115\n",
            "new best: 97 with chain length 118\n",
            "new best: 129 with chain length 121\n",
            "new best: 171 with chain length 124\n",
            "new best: 231 with chain length 127\n",
            "new best: 313 with chain length 130\n",
            "new best: 327 with chain length 143\n",
            "new best: 649 with chain length 144\n",
            "new best: 703 with chain length 170\n",
            "new best: 871 with chain length 178\n",
            "new best: 1161 with chain length 181\n",
            "new best: 2223 with chain length 182\n",
            "new best: 2463 with chain length 208\n",
            "new best: 2919 with chain length 216\n",
            "new best: 3711 with chain length 237\n",
            "new best: 6171 with chain length 261\n",
            "new best: 10971 with chain length 267\n",
            "new best: 13255 with chain length 275\n",
            "new best: 17647 with chain length 278\n",
            "new best: 23529 with chain length 281\n",
            "new best: 26623 with chain length 307\n",
            "new best: 34239 with chain length 310\n",
            "new best: 35655 with chain length 323\n",
            "new best: 52527 with chain length 339\n",
            "new best: 77031 with chain length 350\n",
            "new best: 106239 with chain length 353\n",
            "new best: 142587 with chain length 374\n",
            "new best: 156159 with chain length 382\n",
            "new best: 216367 with chain length 385\n",
            "new best: 230631 with chain length 442\n",
            "new best: 410011 with chain length 448\n",
            "new best: 511935 with chain length 469\n",
            "new best: 626331 with chain length 508\n",
            "new best: 837799 with chain length 524\n",
            "best start at: 837799 with chain length 524\n"
          ]
        }
      ],
      "source": [
        "# calculates the longest Collatz chain of any number under a magic number\n",
        "# Collatz being the f: N -> N such that f(n) = 3n + 1 if n is odd, else n/2, iterating until you hit the 4/2/1/4 loop\n",
        "\n",
        "# I don't know how to do this the way I want to, which involves directed acyclic graphs yet again and which would be a lot prettier than what I'm about to do\n",
        "\n",
        "magic = 1000000  # should be 1000000\n",
        "maxchain = 0\n",
        "beststart = 0\n",
        "powersoftwo = [1, 2, 4, 8, 16, 32, 64, 128, 256, 512, 1024, 2048, 4096, 8192, 16384, 32768, 65536, 131072, 262144, 524288, 1048576, 2097152]  # easiest to precompute.\n",
        "\n",
        "for i in range(1, magic):  # do the following up to the magic number\n",
        "    collatznumber = i\n",
        "    chaincount = 0\n",
        "    chainrecord = [i]\n",
        "    biggestblog = 0\n",
        "\n",
        "    while collatznumber not in powersoftwo:  # main collatz loop\n",
        "        if collatznumber % 2 == 0:\n",
        "            collatznumber = int(collatznumber/2)  # should never change value as it's even\n",
        "        else:\n",
        "            collatznumber *= 3\n",
        "            collatznumber += 1\n",
        "\n",
        "        chainrecord.append(collatznumber)\n",
        "        chaincount += 1\n",
        "\n",
        "    biggestblog = powersoftwo.index(collatznumber) # lookup small powers of two\n",
        "    chaincount += biggestblog\n",
        "\n",
        "    for j in range(biggestblog, -1, -1):  # looks weird but we stop *before* -1\n",
        "        chainrecord.append(powersoftwo[j])\n",
        "\n",
        "    #print('chain record for', i, ':', chainrecord)  # don't uncomment if magic is >10k\n",
        "    if maxchain < chaincount:\n",
        "        maxchain = chaincount\n",
        "        beststart = i\n",
        "        print('new best:', beststart, 'with chain length', maxchain)\n",
        "\n",
        "print('best start at:', beststart, 'with chain length', maxchain)"
      ]
    }
  ]
}