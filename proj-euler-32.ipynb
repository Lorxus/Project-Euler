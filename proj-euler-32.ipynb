{
  "nbformat": 4,
  "nbformat_minor": 0,
  "metadata": {
    "colab": {
      "provenance": [],
      "authorship_tag": "ABX9TyNm5UGAI7DIL2tpoKnSz6OG",
      "include_colab_link": true
    },
    "kernelspec": {
      "name": "python3",
      "display_name": "Python 3"
    },
    "language_info": {
      "name": "python"
    }
  },
  "cells": [
    {
      "cell_type": "markdown",
      "metadata": {
        "id": "view-in-github",
        "colab_type": "text"
      },
      "source": [
        "<a href=\"https://colab.research.google.com/github/Lorxus/Project-Euler/blob/main/proj-euler-32.ipynb\" target=\"_parent\"><img src=\"https://colab.research.google.com/assets/colab-badge.svg\" alt=\"Open In Colab\"/></a>"
      ]
    },
    {
      "cell_type": "code",
      "execution_count": 11,
      "metadata": {
        "colab": {
          "base_uri": "https://localhost:8080/"
        },
        "id": "84H1rkkVAqT-",
        "outputId": "45f38f1c-9999-44be-ec18-6c91db676a89"
      },
      "outputs": [
        {
          "output_type": "stream",
          "name": "stdout",
          "text": [
            "[5796, 5346, 4396, 7254, 7632, 6952, 7852]\n",
            "45228\n"
          ]
        }
      ],
      "source": [
        "# 39 * 186 = 7254; this is unusual in that between the two factors and the product, every digit 1-9 is represented exactly once.\n",
        "# this program computes the sum over the set of all such products; ie, 7254 is in the sum precisely once.\n",
        "\n",
        "import math\n",
        "import random as rand\n",
        "\n",
        "def striptodigitsten(n):\n",
        "    if type(n) != int or n < 0:\n",
        "        return [-1]\n",
        "\n",
        "    digits = []\n",
        "    numberstub = n\n",
        "\n",
        "    while numberstub > 0:\n",
        "        d = numberstub % 10\n",
        "        digits.insert(0, d)\n",
        "        numberstub -= d\n",
        "        numberstub /= 10\n",
        "        numberstub = int(numberstub)\n",
        "\n",
        "    return digits\n",
        "\n",
        "def digitstoint(L):\n",
        "    if type(L) != list:\n",
        "        return -1\n",
        "    if not all(type(d) == int for d in L):\n",
        "        return -1\n",
        "\n",
        "    length = len(L)\n",
        "    total = 0\n",
        "    for i in range(length):\n",
        "        total += L[i] * 10 ** (length - 1 - i)\n",
        "\n",
        "    return total\n",
        "\n",
        "# digits(m) + digits(n) - 1 <= digits(m*n) <= digits(m) + digits(n)\n",
        "# so the only possibilities are of the form (digits(m), digits(n)) = (2, 3) or (1, 4)\n",
        "# with digits(m*n) = 4\n",
        "\n",
        "pandigitalproducts = []\n",
        "shortfactors = []\n",
        "longfactors = []\n",
        "hugefactors = []\n",
        "numbers = [1, 2, 3, 4, 5, 6, 7, 8, 9]\n",
        "\n",
        "# some light preprocessing\n",
        "for i in range(10, 100):\n",
        "    tempdigits = striptodigitsten(i)\n",
        "    tempdigits = sorted(tempdigits)\n",
        "    if tempdigits[0] != 0:\n",
        "        shortfactors.append(i)\n",
        "\n",
        "for j in range(100, 1000):\n",
        "    tempdigits = striptodigitsten(j)\n",
        "    tempdigits = sorted(tempdigits)\n",
        "    if tempdigits[0] != 0:\n",
        "        longfactors.append(j)\n",
        "\n",
        "for k in range(1000, 10000):\n",
        "    tempdigits = striptodigitsten(k)\n",
        "    tempdigits = sorted(tempdigits)\n",
        "    if tempdigits[0] != 0:\n",
        "        hugefactors.append(k)\n",
        "\n",
        "for s in shortfactors:\n",
        "    for l in longfactors:\n",
        "        if len(striptodigitsten(s*l)) != 4:\n",
        "            continue\n",
        "        tempdigitlist = striptodigitsten(s) + striptodigitsten(l) + striptodigitsten(s*l)\n",
        "        if sum(tempdigitlist) != 45:\n",
        "            continue\n",
        "        tempdigitlist = sorted(tempdigitlist)\n",
        "        if tempdigitlist == numbers and s*l not in pandigitalproducts:\n",
        "            pandigitalproducts.append(s*l)\n",
        "\n",
        "for i in range(2, 10):\n",
        "    for h in hugefactors:\n",
        "        if len(striptodigitsten(i*h)) != 4:\n",
        "            continue\n",
        "        tempdigitlist = striptodigitsten(i) + striptodigitsten(h) + striptodigitsten(i*h)\n",
        "        if sum(tempdigitlist) != 45:\n",
        "            continue\n",
        "        tempdigitlist = sorted(tempdigitlist)\n",
        "        if tempdigitlist == numbers and i*h not in pandigitalproducts:\n",
        "            pandigitalproducts.append(i*h)\n",
        "\n",
        "print(pandigitalproducts)\n",
        "print(sum(pandigitalproducts))\n",
        "\n",
        "\n",
        ""
      ]
    }
  ]
}