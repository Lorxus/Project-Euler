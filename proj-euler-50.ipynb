{
  "nbformat": 4,
  "nbformat_minor": 0,
  "metadata": {
    "colab": {
      "provenance": [],
      "authorship_tag": "ABX9TyP4Qwvy/F7ycG/1OLgdW4eL",
      "include_colab_link": true
    },
    "kernelspec": {
      "name": "python3",
      "display_name": "Python 3"
    },
    "language_info": {
      "name": "python"
    }
  },
  "cells": [
    {
      "cell_type": "markdown",
      "metadata": {
        "id": "view-in-github",
        "colab_type": "text"
      },
      "source": [
        "<a href=\"https://colab.research.google.com/github/Lorxus/Project-Euler/blob/main/proj-euler-50.ipynb\" target=\"_parent\"><img src=\"https://colab.research.google.com/assets/colab-badge.svg\" alt=\"Open In Colab\"/></a>"
      ]
    },
    {
      "cell_type": "code",
      "execution_count": 13,
      "metadata": {
        "colab": {
          "base_uri": "https://localhost:8080/"
        },
        "id": "H5qe72dpSfTC",
        "outputId": "f20f608a-5ce5-4dcd-8263-41e417f34ca1"
      },
      "outputs": [
        {
          "output_type": "stream",
          "name": "stdout",
          "text": [
            "26027 543\n",
            "1\n",
            "[[997651, 543]]\n"
          ]
        }
      ],
      "source": [
        "# 41 can be written as the sum of six consecutive primes: 2 + 3 + 5 + 7 + 11 + 13, the longest below 100.\n",
        "# The longest prime sum of consecutive primes under 1000 has 21 terms and adds to 953.\n",
        "# This program finds the prime less than 1000000 which is expressible as the sum of the most primes.\n",
        "\n",
        "import sympy as sp\n",
        "import random as rand\n",
        "\n",
        "smallprimes = []\n",
        "longsums = []\n",
        "magic = 1000000\n",
        "\n",
        "param = 2000000\n",
        "\n",
        "for i in range(2, param):\n",
        "    if sp.isprime(i) and i < 48000:  # ~1000000/21\n",
        "            smallprimes.append(i)\n",
        "\n",
        "length = len(smallprimes)\n",
        "\n",
        "param = 4000\n",
        "maxlength = 21\n",
        "\n",
        "for i in range(21, 5000):\n",
        "    for j in range(length):\n",
        "        if i + j >= length:  # out of bounds\n",
        "            continue\n",
        "\n",
        "        total = 0\n",
        "        temparray = smallprimes[j:j+i]\n",
        "        total = sum(temparray)\n",
        "\n",
        "        if total >= magic:  # too big\n",
        "            continue\n",
        "\n",
        "        elif sp.isprime(total):\n",
        "            longsums.append([total, i])\n",
        "            if i > maxlength:\n",
        "                maxlength = i\n",
        "\n",
        "print(len(longsums), maxlength)\n",
        "\n",
        "longestsums = []\n",
        "maxsum = 0\n",
        "\n",
        "for pair in longsums:\n",
        "    tempnumber = int(pair[0])\n",
        "    # if rand.random() < 0.001:\n",
        "    #     print(tempnumber)\n",
        "    if tempnumber > maxsum:\n",
        "        maxsum = tempnumber\n",
        "    if int(pair[1]) == maxlength:\n",
        "        longestsums.append(pair)\n",
        "\n",
        "print(longestsums)"
      ]
    }
  ]
}