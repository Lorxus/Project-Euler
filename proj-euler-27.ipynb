{
  "nbformat": 4,
  "nbformat_minor": 0,
  "metadata": {
    "colab": {
      "provenance": [],
      "authorship_tag": "ABX9TyPdSDvtWe2W+0xYzZxsUMW/",
      "include_colab_link": true
    },
    "kernelspec": {
      "name": "python3",
      "display_name": "Python 3"
    },
    "language_info": {
      "name": "python"
    }
  },
  "cells": [
    {
      "cell_type": "markdown",
      "metadata": {
        "id": "view-in-github",
        "colab_type": "text"
      },
      "source": [
        "<a href=\"https://colab.research.google.com/github/Lorxus/Project-Euler/blob/main/proj-euler-27.ipynb\" target=\"_parent\"><img src=\"https://colab.research.google.com/assets/colab-badge.svg\" alt=\"Open In Colab\"/></a>"
      ]
    },
    {
      "cell_type": "code",
      "execution_count": 7,
      "metadata": {
        "colab": {
          "base_uri": "https://localhost:8080/"
        },
        "id": "zg7X_ZEXHQcm",
        "outputId": "c1564ea0-0d38-4d5f-8306-18be8a9016fa"
      },
      "outputs": [
        {
          "output_type": "stream",
          "name": "stdout",
          "text": [
            "final best pair: [-61, 971] with run length: 71\n",
            "product: -59231\n"
          ]
        }
      ],
      "source": [
        "# calculates the pair -1000 <= a, b <= 1000 and the product a * b\n",
        "# such that p_a,b(n) generates the most consecutive primes on values of n starting at n = 0\n",
        "# where p_a,b(n) = n^2 + a*n + b\n",
        "\n",
        "import sympy as sp\n",
        "\n",
        "def polyab(a, b, n):\n",
        "    temp = n*n + (a * n) + b\n",
        "    return temp\n",
        "\n",
        "def countrunofprimes(a, b):\n",
        "    primerun = 0\n",
        "    # if not sp.isprime(polyab(a, b, 0)):\n",
        "    #     return primerun\n",
        "\n",
        "    # primerun += 1\n",
        "\n",
        "    while sp.isprime(polyab(a, b, primerun)):\n",
        "        primerun += 1\n",
        "\n",
        "    return primerun\n",
        "\n",
        "bestpair = [0] * 2\n",
        "maxprimerun = 0\n",
        "\n",
        "for a in range(-1000, 1000):\n",
        "    for b in range(-1000, 1001):\n",
        "        thisprimerun = countrunofprimes(a, b)\n",
        "        if thisprimerun > maxprimerun:\n",
        "            maxprimerun = thisprimerun\n",
        "            bestpair[0] = a\n",
        "            bestpair[1] = b\n",
        "            #print('found a new best pair:', a, b, 'with run length:', maxprimerun)\n",
        "\n",
        "print('final best pair:', bestpair, 'with run length:', maxprimerun)\n",
        "print('product:', bestpair[0] * bestpair[1])\n",
        "# print('test:', countrunofprimes(1, 41))\n",
        "# print('test:', countrunofprimes(-79, 1601))"
      ]
    }
  ]
}