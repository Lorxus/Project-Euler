{
  "nbformat": 4,
  "nbformat_minor": 0,
  "metadata": {
    "colab": {
      "provenance": [],
      "authorship_tag": "ABX9TyMRGLJm+Lir2qj/7ijUatK6",
      "include_colab_link": true
    },
    "kernelspec": {
      "name": "python3",
      "display_name": "Python 3"
    },
    "language_info": {
      "name": "python"
    }
  },
  "cells": [
    {
      "cell_type": "markdown",
      "metadata": {
        "id": "view-in-github",
        "colab_type": "text"
      },
      "source": [
        "<a href=\"https://colab.research.google.com/github/Lorxus/Project-Euler/blob/main/project-euler-35.ipynb\" target=\"_parent\"><img src=\"https://colab.research.google.com/assets/colab-badge.svg\" alt=\"Open In Colab\"/></a>"
      ]
    },
    {
      "cell_type": "code",
      "execution_count": 19,
      "metadata": {
        "colab": {
          "base_uri": "https://localhost:8080/"
        },
        "id": "JdPhrmtUfpQi",
        "outputId": "efa08e6d-a76c-4dc7-b29a-e664a53ae476"
      },
      "outputs": [
        {
          "output_type": "stream",
          "name": "stdout",
          "text": [
            "55\n",
            "[2, 3, 5, 7, 11, 13, 17, 31, 37, 71, 73, 79, 97, 113, 131, 197, 199, 311, 337, 373, 719, 733, 919, 971, 991, 1193, 1931, 3119, 3779, 7793, 7937, 9311, 9377, 11939, 19391, 19937, 37199, 39119, 71993, 91193, 93719, 93911, 99371, 193939, 199933, 319993, 331999, 391939, 393919, 919393, 933199, 939193, 939391, 993319, 999331]\n"
          ]
        }
      ],
      "source": [
        "# How many circular primes are there below a given magic number?\n",
        "# A circular prime is one such that all cyclic permutations of its digits are also prime.\n",
        "# The first few: 2, 3, 5, 7, 11, 13, 17, 31, 37...\n",
        "# For PE, magic = 1,000,000.\n",
        "\n",
        "import sympy\n",
        "\n",
        "def striptodigits(n):\n",
        "    digits = []\n",
        "    numberstub = n\n",
        "\n",
        "    while numberstub > 0:\n",
        "        d = numberstub % 10\n",
        "        digits.insert(0, d)\n",
        "        numberstub -= d\n",
        "        numberstub /= 10\n",
        "        numberstub = int(numberstub)\n",
        "\n",
        "    return digits\n",
        "\n",
        "def isCircularPrime(n):\n",
        "    if not sympy.isprime(n):  # dealing with the trivial cases\n",
        "        return False\n",
        "    elif n < 18:  # 2, 3, 5, 7, 11, 13, 17\n",
        "        return True\n",
        "\n",
        "    digits = striptodigits(n)  # dealing with the easier cases\n",
        "    if 2 in digits or 4 in digits or 5 in digits or 6 in digits or 8 in digits or 0 in digits:\n",
        "        return False\n",
        "    if sum(digits) % 3 == 0:\n",
        "        return False\n",
        "\n",
        "    length = len(digits)  # ok no more putting it off\n",
        "    tempcyclic = 0\n",
        "\n",
        "    for i in range(1, length):\n",
        "        for d in range(length):\n",
        "            tempcyclic += digits[d] * (10 ** ((- 1 - d + i) % length))\n",
        "\n",
        "        #print(tempcyclic)\n",
        "        if not sympy.isprime(tempcyclic):\n",
        "            return False\n",
        "\n",
        "        tempcyclic = 0\n",
        "\n",
        "    return True\n",
        "\n",
        "# print(isCircularPrime(2))\n",
        "# print(isCircularPrime(13))\n",
        "# print(isCircularPrime(29))\n",
        "# print(isCircularPrime(31))\n",
        "# print(isCircularPrime(313))\n",
        "\n",
        "# print(isCircularPrime(197))\n",
        "\n",
        "magic = 1000000\n",
        "circularprimecount = 0\n",
        "circularprimelist = []\n",
        "\n",
        "for i in range(1, magic + 1):\n",
        "    if isCircularPrime(i):\n",
        "        circularprimecount += 1\n",
        "        circularprimelist.append(i)\n",
        "\n",
        "\n",
        "print(circularprimecount)\n",
        "print(circularprimelist)"
      ]
    }
  ]
}