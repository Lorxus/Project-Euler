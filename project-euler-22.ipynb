{
  "nbformat": 4,
  "nbformat_minor": 0,
  "metadata": {
    "colab": {
      "provenance": [],
      "authorship_tag": "ABX9TyNc4sWkZrdoiSoSw5f7cVYR",
      "include_colab_link": true
    },
    "kernelspec": {
      "name": "python3",
      "display_name": "Python 3"
    },
    "language_info": {
      "name": "python"
    }
  },
  "cells": [
    {
      "cell_type": "markdown",
      "metadata": {
        "id": "view-in-github",
        "colab_type": "text"
      },
      "source": [
        "<a href=\"https://colab.research.google.com/github/Lorxus/Project-Euler/blob/main/project-euler-22.ipynb\" target=\"_parent\"><img src=\"https://colab.research.google.com/assets/colab-badge.svg\" alt=\"Open In Colab\"/></a>"
      ]
    },
    {
      "cell_type": "code",
      "execution_count": 33,
      "metadata": {
        "colab": {
          "base_uri": "https://localhost:8080/"
        },
        "id": "ucZSJL-bXQVl",
        "outputId": "e5f439eb-c817-472e-c27e-f792488faed0"
      },
      "outputs": [
        {
          "output_type": "stream",
          "name": "stdout",
          "text": [
            "5163\n",
            "871198282\n"
          ]
        }
      ],
      "source": [
        "# calculates the maximum score among listed names\n",
        "# score = position * alphanumeric sum\n",
        "\n",
        "from google.colab import files\n",
        "\n",
        "def nametototal(s):  # get the alphanumeric score of a name\n",
        "    name = list(s)\n",
        "    #print(name)\n",
        "    total = 0\n",
        "    if s is None:\n",
        "        return 0\n",
        "\n",
        "    for char in name:\n",
        "        charscore = 0\n",
        "\n",
        "        if char.isupper():\n",
        "            charscore = ord(char) - 64  # 64 is the char before A\n",
        "        else:\n",
        "            charscore = ord(char) - 96  # 96 is the char before a\n",
        "\n",
        "        total += charscore\n",
        "\n",
        "    return total\n",
        "\n",
        "file = open('0022_names.txt')\n",
        "namefile = list(file)\n",
        "file.close()\n",
        "\n",
        "namelist = namefile[0].split(',')\n",
        "namelist = sorted(namelist)\n",
        "\n",
        "for i in range(len(namelist)):\n",
        "    name = namelist[i]\n",
        "    namelist[i] = name[1:-1]  # strip first and last chars\n",
        "print(len(namelist))\n",
        "#print(type(namelist[0]))\n",
        "\n",
        "scorelist = []\n",
        "\n",
        "for i in range(len(namelist)):\n",
        "    myscore = int(nametototal(namelist[i])) * int((i+1))\n",
        "    scorelist.append(myscore)\n",
        "\n",
        "print(sum(scorelist))"
      ]
    }
  ]
}