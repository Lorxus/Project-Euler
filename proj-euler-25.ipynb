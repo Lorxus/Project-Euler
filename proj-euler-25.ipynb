{
  "nbformat": 4,
  "nbformat_minor": 0,
  "metadata": {
    "colab": {
      "provenance": [],
      "authorship_tag": "ABX9TyM9HISJW8ykpNCgGZG/TksC",
      "include_colab_link": true
    },
    "kernelspec": {
      "name": "python3",
      "display_name": "Python 3"
    },
    "language_info": {
      "name": "python"
    }
  },
  "cells": [
    {
      "cell_type": "markdown",
      "metadata": {
        "id": "view-in-github",
        "colab_type": "text"
      },
      "source": [
        "<a href=\"https://colab.research.google.com/github/Lorxus/Project-Euler/blob/main/project-euler-25.ipynb\" target=\"_parent\"><img src=\"https://colab.research.google.com/assets/colab-badge.svg\" alt=\"Open In Colab\"/></a>"
      ]
    },
    {
      "cell_type": "code",
      "execution_count": 7,
      "metadata": {
        "colab": {
          "base_uri": "https://localhost:8080/"
        },
        "id": "FzfKNJGSbDjO",
        "outputId": "1063e3ce-4f11-4d5b-eb55-3034b491144a"
      },
      "outputs": [
        {
          "output_type": "stream",
          "name": "stdout",
          "text": [
            "4781.859270753069\n"
          ]
        }
      ],
      "source": [
        "# What is the index of the first Fibonacci number with 1000 digits?\n",
        "\n",
        "import math\n",
        "\n",
        "# def approxfibindex(F):\n",
        "#     rootfive = 5 ** 0.5\n",
        "#     phi = (1 + rootfive)/2\n",
        "\n",
        "#     return math.ceil(math.log(rootfive * F, phi))\n",
        "\n",
        "# print(approxfibindex(10**1000))\n",
        "\n",
        "rootfive = 5 ** 0.5\n",
        "phi = (1 + rootfive)/2\n",
        "\n",
        "index = math.ceil(math.log(rootfive, phi) + 999*math.log(10, phi))\n",
        "\n",
        "print(index)"
      ]
    }
  ]
}
