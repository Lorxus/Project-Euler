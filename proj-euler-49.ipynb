{
  "nbformat": 4,
  "nbformat_minor": 0,
  "metadata": {
    "colab": {
      "provenance": [],
      "authorship_tag": "ABX9TyNS11XMLkYEpQ/J3Gdn6llE",
      "include_colab_link": true
    },
    "kernelspec": {
      "name": "python3",
      "display_name": "Python 3"
    },
    "language_info": {
      "name": "python"
    }
  },
  "cells": [
    {
      "cell_type": "markdown",
      "metadata": {
        "id": "view-in-github",
        "colab_type": "text"
      },
      "source": [
        "<a href=\"https://colab.research.google.com/github/Lorxus/Project-Euler/blob/main/proj-euler-49.ipynb\" target=\"_parent\"><img src=\"https://colab.research.google.com/assets/colab-badge.svg\" alt=\"Open In Colab\"/></a>"
      ]
    },
    {
      "cell_type": "code",
      "execution_count": 16,
      "metadata": {
        "colab": {
          "base_uri": "https://localhost:8080/"
        },
        "id": "31-AOWuTPFF-",
        "outputId": "a6b137fe-9a44-4d57-e369-a1bcb937d60c"
      },
      "outputs": [
        {
          "output_type": "stream",
          "name": "stdout",
          "text": [
            "found the other permuting pair: [2969, 3330]\n",
            "2969 6299 9629 True\n",
            "[2969, 3330]\n",
            "996762999629\n"
          ]
        }
      ],
      "source": [
        "# Let A(n, s) be the arithmetic sequence starting at A_1 = n with step sizes s.\n",
        "# In some such sequences, the first few terms are all prime and also the digits are all permutations of each other.\n",
        "# None such exist for 1-3 digits.\n",
        "# A(1487, 3330) = 1487, 4817, 8147 is one of the 4-digit ones.\n",
        "# This program finds the 12-digit number obtained by concatenating the other one.\n",
        "\n",
        "import sympy as sp\n",
        "import random as rand\n",
        "\n",
        "def striptodigitsten(n):\n",
        "    digits = []\n",
        "    numberstub = n\n",
        "\n",
        "    while numberstub > 0:\n",
        "        d = numberstub % 10\n",
        "        digits.insert(0, d)\n",
        "        numberstub -= d\n",
        "        numberstub /= 10\n",
        "        numberstub = int(numberstub)\n",
        "\n",
        "    return digits\n",
        "\n",
        "def numberlength(n):\n",
        "    return len(striptodigitsten(n))\n",
        "\n",
        "# def listtoset(L):\n",
        "#     s = set()\n",
        "#     for l in L:\n",
        "#         s.add(l)\n",
        "\n",
        "#     return s\n",
        "\n",
        "permutingpairs = [[1487, 3330]]\n",
        "\n",
        "primelist = []\n",
        "\n",
        "for i in range(1012, 9991):\n",
        "    if sp.isprime(i):\n",
        "        primelist.append(i)\n",
        "\n",
        "candidatepairs = []\n",
        "for p in primelist:\n",
        "    for stepsize in range(1, 10000):\n",
        "        temp = p + stepsize\n",
        "        if sp.isprime(temp) and numberlength(temp) == 4:\n",
        "            candidatepairs.append([p, stepsize])\n",
        "\n",
        "for pair in candidatepairs:\n",
        "    numberset = sorted(striptodigitsten(pair[0]))\n",
        "    hasfailed = False\n",
        "    currentnumber = pair[0]\n",
        "    for j in range(3):\n",
        "        if sorted(striptodigitsten(pair[0] + (pair[1] * j))) != numberset or not sp.isprime(currentnumber):\n",
        "            hasfailed = True\n",
        "            break\n",
        "        else: currentnumber += pair[1]\n",
        "\n",
        "    if not hasfailed:\n",
        "        #print('found a permuting pair:', pair)\n",
        "        if pair not in permutingpairs:\n",
        "            newpair = pair\n",
        "            permutingpairs.append(pair)\n",
        "            print('found the other permuting pair:', pair)\n",
        "            second = pair[0] + pair[1]\n",
        "            third = second + pair[1]\n",
        "            print(pair[0], second, third, sp.isprime(pair[0]) and sp.isprime(second) and sp.isprime(third))\n",
        "\n",
        "print(newpair)\n",
        "print(str(pair[0]) + str(second) + str(third))\n"
      ]
    }
  ]
}