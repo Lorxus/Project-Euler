{
  "nbformat": 4,
  "nbformat_minor": 0,
  "metadata": {
    "colab": {
      "provenance": [],
      "authorship_tag": "ABX9TyPbXCst/QDiVKQbEzSpElXE",
      "include_colab_link": true
    },
    "kernelspec": {
      "name": "python3",
      "display_name": "Python 3"
    },
    "language_info": {
      "name": "python"
    }
  },
  "cells": [
    {
      "cell_type": "markdown",
      "metadata": {
        "id": "view-in-github",
        "colab_type": "text"
      },
      "source": [
        "<a href=\"https://colab.research.google.com/github/Lorxus/Project-Euler/blob/main/project-euler-17.ipynb\" target=\"_parent\"><img src=\"https://colab.research.google.com/assets/colab-badge.svg\" alt=\"Open In Colab\"/></a>"
      ]
    },
    {
      "cell_type": "code",
      "execution_count": 8,
      "metadata": {
        "colab": {
          "base_uri": "https://localhost:8080/"
        },
        "id": "OSdRh4V-SYYM",
        "outputId": "ef500050-4192-47d5-c3d3-857f6e6b73b4"
      },
      "outputs": [
        {
          "output_type": "stream",
          "name": "stdout",
          "text": [
            "36 854 21124\n"
          ]
        }
      ],
      "source": [
        "# How many nonblank nonhyphen characters are in the British English words for the numbers from one to one thousand?\n",
        "# \"(X hundred (and)) Y\"\n",
        "\n",
        "charsinOnetoNine = 3 + 3 + 5 + 4 + 4 + 3 + 5 + 5 + 4  # one through nine\n",
        "charsinOnetoNinetynine = charsinOnetoNine * 9 + (3 + 6 + 6 + 8 + 8 + 7 + 7 + 9 + 8 + 8) + (6 + 6 + 5 + 5 + 5 + 7 + 6 + 6) * 10  # one through nine (and for 20s-90s), ten and teens, added contribution from 20s-90s\n",
        "totalchars = charsinOnetoNinetynine * 10 + ((charsinOnetoNine) + (7 + 3) * 9) * 100 - 27 + (3 + 8) # one through ninetynine for all the hundred-ands, additional hundred-ands contribution, remove nine ands, one thousand\n",
        "print(charsinOnetoNine, charsinOnetoNinetynine, totalchars)\n"
      ]
    }
  ]
}